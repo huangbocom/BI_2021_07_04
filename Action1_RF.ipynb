{
 "cells": [
  {
   "cell_type": "code",
   "execution_count": 35,
   "metadata": {},
   "outputs": [
    {
     "name": "stdout",
     "output_type": "stream",
     "text": [
      "temp=\n",
      " [[ 2  2  2 ...  3  3  3]\n",
      " [ 2  2  2 ...  3  3  3]\n",
      " [ 5  5  5 ...  4  4  4]\n",
      " ...\n",
      " [ 1  1  1 ...  1  1  1]\n",
      " [ 4  4  4 ...  2  2 12]\n",
      " [ 2  2  2 ...  3  3  3]]\n"
     ]
    },
    {
     "data": {
      "image/png": "[encoded data removed]",
      "text/plain": [
       "<Figure size 432x288 with 1 Axes>"
      ]
     },
     "metadata": {
      "needs_background": "light"
     },
     "output_type": "display_data"
    }
   ],
   "source": [
    "import numpy as np\n",
    "\n",
    "import matplotlib.pyplot as plt\n",
    "from sklearn.datasets import make_classification\n",
    "from sklearn.linear_model import LogisticRegression\n",
    "from sklearn.ensemble import RandomTreesEmbedding, RandomForestClassifier, GradientBoostingClassifier\n",
    "\n",
    "from sklearn.preprocessing import OneHotEncoder\n",
    "from sklearn.model_selection import train_test_split\n",
    "from sklearn.metrics import roc_curve\n",
    "from sklearn.pipeline import make_pipeline\n",
    "import lightgbm as lgb\n",
    "\n",
    "\n",
    "np.random.seed(10)\n",
    "X, y =make_classification(n_samples=80000, n_features=20)\n",
    "X_train, X_test, y_train, y_test = train_test_split(X,y, test_size=0.5)\n",
    "X_train, X_train_lr, y_train, y_train_lr = train_test_split(X_train,y_train, test_size=0.5)\n",
    "\n",
    "#RandomForest + LR\n",
    "rf = RandomForestClassifier(max_depth=3, n_estimators=10)\n",
    "rf.fit(X_train, y_train)\n",
    "rf_enc = OneHotEncoder()\n",
    "rf_enc.fit(rf.apply(X_train))\n",
    "\n",
    "rf_lm = LogisticRegression(solver='lbfgs', max_iter=1000)\n",
    "temp = rf.predict(X_train_lr)\n",
    "rf_lm.fit(rf_enc.transform(rf.apply(X_train_lr)), y_train_lr)\n",
    "#LR预测\n",
    "y_pred_rf_lm = rf_lm.predict_proba(rf_enc.transform(rf.apply(X_test)))[:,1]\n",
    "fpr_rf_lm, tpr_rf_lm, _ = roc_curve(y_test, y_pred_rf_lm)\n",
    "\n",
    "\n",
    "#lgb LR\n",
    "lgb = lgb.LGBMClassifier(n_estimators=10)\n",
    "lgb.fit(X_train, y_train)\n",
    "\n",
    "lgb_enc = OneHotEncoder(categories='auto')\n",
    "lgb_enc.fit(lgb.predict(X_train, pred_leaf=True))\n",
    "\n",
    "\n",
    "lgb_lm = LogisticRegression(solver='lbfgs', max_iter=1000)\n",
    "temp = lgb.predict(X_train_lr, pred_leaf= True)\n",
    "print('temp=\\n', temp)\n",
    "\n",
    "lgb_lm.fit(lgb_enc.transform(lgb.predict(X_train_lr, pred_leaf=True)), y_train_lr)\n",
    "\n",
    "\n",
    "#LR预测\n",
    "y_pred_lgb_lm = lgb_lm.predict_proba(lgb_enc.transform(lgb.predict(X_test, pred_leaf=True)))[:,1]\n",
    "fpr_lgb_lm, tpr_lgb_lm, _ = roc_curve(y_test, y_pred_lgb_lm)\n",
    "\n",
    "\n",
    "\n",
    "#GBDT\n",
    "\n",
    "gbdt = GradientBoostingClassifier(max_depth=3, n_estimators=10)\n",
    "gbdt.fit(X_train, y_train)\n",
    "gbdt_enc = OneHotEncoder()\n",
    "gbdt_enc.fit(gbdt.apply(X_train)[:,:,0])\n",
    "\n",
    "gbdt_lm = LogisticRegression(solver='lbfgs', max_iter=1000)\n",
    "\n",
    "gbdt_lm.fit(gbdt_enc.transform(gbdt.apply(X_train_lr)[:,:,0]), y_train_lr)\n",
    "#LR预测\n",
    "y_pred_gbdt_lm = gbdt_lm.predict_proba(gbdt_enc.transform(gbdt.apply(X_test)[:,:,0]))[:,1]\n",
    "fpr_gbdt_lm, tpr_gbdt_lm, _ = roc_curve(y_test, y_pred_gbdt_lm)\n",
    "\n",
    "\n",
    "\n",
    "plt.figure(1)\n",
    "\n",
    "plt.plot([0,1],[0,1], '')\n",
    "plt.plot(fpr_rf_lm, tpr_rf_lm, label='RF, LR')\n",
    "plt.plot(fpr_gbdt_lm, tpr_gbdt_lm, label='GBTD, LR')\n",
    "plt.plot(fpr_rf_lm, tpr_rf_lm, label='LGB, LR')\n",
    "plt.xlabel('FP RandomTress')\n",
    "plt.ylabel('TP Rate')\n",
    "plt.title('ROC')\n",
    "plt.show()"
   ]
  }
 ],
 "metadata": {
  "kernelspec": {
   "display_name": "Python 3",
   "language": "python",
   "name": "python3"
  },
  "language_info": {
   "codemirror_mode": {
    "name": "ipython",
    "version": 3
   },
   "file_extension": ".py",
   "mimetype": "text/x-python",
   "name": "python",
   "nbconvert_exporter": "python",
   "pygments_lexer": "ipython3",
   "version": "3.8.3"
  }
 },
 "nbformat": 4,
 "nbformat_minor": 4
}
